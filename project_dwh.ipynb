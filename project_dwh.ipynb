{
 "cells": [
  {
   "cell_type": "markdown",
   "id": "387e1477-f2a2-4305-8e5f-4bf4788504f9",
   "metadata": {},
   "source": [
    "# Мини-проект по Spark и ClickHouse\n",
    "\n",
    "## Необходимо обработать данные в Spark и настроить поставку данных в ClickHouse через интеграционные таблицы, а затем выполнить несколько расчетов, чтобы ответить на вопросы бизнеса."
   ]
  },
  {
   "cell_type": "markdown",
   "id": "416de94b-3360-4598-b9c1-90c5dabd4c66",
   "metadata": {},
   "source": [
    "# Исходные данные\n",
    "\n",
    "## adverts_data.parquet - данные с характеристиками объявлений:\n",
    "- execution_date - дата, на которую была выгрузка по объявлениям live\n",
    "- advert_id - id объявления\n",
    "- mark - марка машины\n",
    "- model - модель машины\n",
    "- price - цена машины\n",
    "- year - год машины\n",
    "- fuel - тип топлива\n",
    "- color - цвет\n",
    "- transmission - коробка передач\n",
    "- body - тип кузова авто\n",
    "- country - страна\n",
    "\n",
    "## live_adverts.parquet – данные с текущими объявлениями:\n",
    "- execution_date - дата, на которую была выгрузка по объявлениям live\n",
    "- advert_id - id объявления\n",
    "- region - регион объявления\n",
    "- user_id - глобальный ID пользователя (ссылка на user_passports.global_id))\n",
    "- platform - платформа подачи\n",
    " \n",
    "## user_passports – данные с характеристиками пользователей:\n",
    "- global_id - глобальный ID пользователя\n",
    "- user_type_name - тип пользователя"
   ]
  },
  {
   "cell_type": "markdown",
   "id": "2e8596e6-83d2-4122-8a45-105cdd2a87cc",
   "metadata": {},
   "source": [
    "## Схема решения"
   ]
  },
  {
   "cell_type": "markdown",
   "id": "a15b9af9-a136-4c0f-9365-0e03512c96a6",
   "metadata": {},
   "source": []
  },
  {
   "cell_type": "code",
   "execution_count": 34,
   "id": "608a9d85-47fc-4330-bee9-1bb898b85020",
   "metadata": {},
   "outputs": [
    {
     "name": "stdout",
     "output_type": "stream",
     "text": [
      "Folder '/Skuzmenko/' created in bucket 'kc-hardda-projects'\n"
     ]
    },
    {
     "name": "stderr",
     "output_type": "stream",
     "text": [
      "                                                                                \r"
     ]
    }
   ],
   "source": [
    "\n",
    "#Spark connection with S3 options\n",
    "import os\n",
    "import socket\n",
    "from pyspark.sql import SparkSession\n",
    "\n",
    "# Указываем credentials и параметры для работы с S3\n",
    "aws_access_key = \"YCAJEdS-Tw-yo4Hf834J6HzA1\"\n",
    "aws_secret_key = \"YCMdHzm_hstp27wftN2W0yMECpl38mV-b7fr5HhG\"\n",
    "s3_bucket = \"kc-hardda-projects\"\n",
    "s3_endpoint_url = \"https://storage.yandexcloud.net\"\n",
    "\n",
    "# В переменную student_directory необходимо подставить свой username\n",
    "student_directory = '/Skuzmenko/'\n",
    " \n",
    "APACHE_MASTER_IP = socket.gethostbyname(\"apache-spark-master-0.apache-spark-headless.apache-spark.svc.cluster.local\")\n",
    "APACHE_MASTER_URL = f\"spark://{APACHE_MASTER_IP}:7077\"\n",
    "POD_IP = os.environ[\"MY_POD_IP\"]\n",
    "SPARK_APP_NAME = f\"spark-{os.environ['HOSTNAME']}\"\n",
    "JARS = \"\"\"/nfs/env/lib/python3.8/site-packages/pyspark/jars/clickhouse-native-jdbc-shaded-2.6.5.jar, \n",
    "/nfs/env/lib/python3.8/site-packages/pyspark/jars/hadoop-aws-3.3.4.jar,\n",
    "/nfs/env/lib/python3.8/site-packages/pyspark/jars/aws-java-sdk-bundle-1.12.433.jar\n",
    "\"\"\"\n",
    "\n",
    "MEM = \"2048m\"\n",
    "CORES = 1\n",
    " \n",
    "spark = SparkSession.\\\n",
    "        builder.\\\n",
    "        appName(SPARK_APP_NAME).\\\n",
    "        master(APACHE_MASTER_URL).\\\n",
    "        config(\"spark.executor.memory\", MEM).\\\n",
    "        config(\"spark.jars\", JARS).\\\n",
    "        config(\"spark.executor.cores\", CORES).\\\n",
    "        config(\"spark.driver.host\", POD_IP).\\\n",
    "        config(\"spark.hadoop.fs.s3a.access.key\", aws_access_key). \\\n",
    "        config(\"spark.hadoop.fs.s3a.secret.key\", aws_secret_key). \\\n",
    "        config(\"fs.s3a.endpoint\", \"https://storage.yandexcloud.net\").  \\\n",
    "        config(\"spark.hadoop.fs.s3a.impl\", \"org.apache.hadoop.fs.s3a.S3AFileSystem\"). \\\n",
    "        config(\"spark.hadoop.fs.s3a.path.style.access\", True). \\\n",
    "        config(\"spark.hadoop.fs.s3a.committer.name\", \"directory\"). \\\n",
    "        config(\"spark.hadoop.fs.s3a.aws.credentials.provider\", \"org.apache.hadoop.fs.s3a.SimpleAWSCredentialsProvider\"). \\\n",
    "        getOrCreate()\n",
    "\t\t\n",
    "\n",
    "# Читаем файлы с исходными данными\n",
    "df_adverts_all = spark.read.parquet('s3a://kc-hardda-projects/shared/adverts_data.parquet')\n",
    "df_live_adverts = spark.read.parquet('s3a://kc-hardda-projects/shared/live_adverts.parquet')\n",
    "df_user_passports = spark.read.parquet('s3a://kc-hardda-projects/shared/user_passports.parquet')\n",
    "\n",
    "# Джойним DF\n",
    "df_flat = df_live_adverts.join(df_adverts_all, on=['execution_date', 'advert_id'], how='left') \\\n",
    "                   .join(df_user_passports, df_live_adverts['user_id'] == df_user_passports['global_id'], how='left')\n",
    "\n",
    "#---------------------------------------------------------------------------------------------\n",
    "# Создание папки в S3 (путем создания пустого объекта с именем папки)\n",
    "try:\n",
    "    s3.put_object(Bucket=s3_bucket, Key=student_directory)\n",
    "    print(f\"Folder '{student_directory}' created in bucket '{s3_bucket}'\")\n",
    "except NoCredentialsError:\n",
    "    print(\"Invalid AWS credentials provided\")\n",
    "#----------------------------------------------------------------------------------------------\n",
    "\n",
    "\n",
    "# Записываем результат в S3\n",
    "# путь для записи нужно поменять на свой\n",
    "df_flat.coalesce(1).write.format(\"parquet\").save(\"s3a://kc-hardda-projects/Skuzmenko/flat_table\", mode='overwrite')\n",
    "\n",
    "# Если необходимо сохранить файл локально, это можно сделать с помощью этого кода\n",
    "#pandas_df = df_flat.coalesce(1).toPandas()\n",
    "#pandas_df.to_parquet('flat_table.parquet')\n",
    "\n"
   ]
  },
  {
   "cell_type": "code",
   "execution_count": 41,
   "id": "ff4452bd-66eb-41c8-9c11-ec2a6804209f",
   "metadata": {},
   "outputs": [
    {
     "name": "stdout",
     "output_type": "stream",
     "text": [
      "Objects in bucket 'kc-hardda-projects':\n",
      "- Skuzmenko/_SUCCESS\n",
      "- Skuzmenko/flat_table/_SUCCESS\n",
      "- Skuzmenko/flat_table/part-00000-0b2423ed-d833-4856-bcf1-299cf517cf3d-c000.snappy.parquet\n",
      "- Skuzmenko/part-00000-f0ce6a97-d49c-4b56-8be3-c99aa951cc29-c000.snappy.parquet\n"
     ]
    }
   ],
   "source": [
    "# Получение списка объектов в S3-бакете и нужной директории\n",
    "response = s3.list_objects_v2(Bucket=s3_bucket, Prefix = 'Skuzmenko')\n",
    "\n",
    "# Вывод списка объектов\n",
    "if 'Contents' in response:\n",
    "    print(f\"Objects in bucket '{s3_bucket}':\")\n",
    "    for obj in response['Contents']:\n",
    "        print(f\"- {obj['Key']}\")\n",
    "else:\n",
    "    print(f\"No objects found in bucket '{s3_bucket}'\")"
   ]
  },
  {
   "cell_type": "code",
   "execution_count": 39,
   "id": "24043c2d-d03a-4d4b-b864-1ab72c75e199",
   "metadata": {},
   "outputs": [
    {
     "name": "stderr",
     "output_type": "stream",
     "text": [
      "[Stage 85:>                                                         (0 + 1) / 1]\r"
     ]
    },
    {
     "name": "stdout",
     "output_type": "stream",
     "text": [
      "+-------------------+---------+------+---------+--------+----+-----+------+----+----+-----+------------+----+-------+---------+--------------+\n",
      "|     execution_date|advert_id|region|  user_id|platform|mark|model| price|year|fuel|color|transmission|body|country|global_id|user_type_name|\n",
      "+-------------------+---------+------+---------+--------+----+-----+------+----+----+-----+------------+----+-------+---------+--------------+\n",
      "|2020-12-25 00:00:00|236092185|Москва|123456986|     ios|null| null|  null|null|null| null|        null|null|   null|123456986|   simple_user|\n",
      "|2020-12-31 00:00:00|236092185|Москва|123456986|     ios|null| null|  null|null|null| null|        null|null|   null|123456986|   simple_user|\n",
      "|2021-01-07 00:00:00|236092185|Москва|123456986|     ios|null| null|  null|null|null| null|        null|null|   null|123456986|   simple_user|\n",
      "|2021-01-24 00:00:00|236092185|Москва|123456986|     ios|null| null|  null|null|null| null|        null|null|   null|123456986|   simple_user|\n",
      "|2021-01-25 00:00:00|256283734|Москва|123456986|     ios|null| null|2000.0|null|null| null|        null|null|   null|123456986|   simple_user|\n",
      "+-------------------+---------+------+---------+--------+----+-----+------+----+----+-----+------------+----+-------+---------+--------------+\n",
      "only showing top 5 rows\n",
      "\n"
     ]
    },
    {
     "name": "stderr",
     "output_type": "stream",
     "text": [
      "                                                                                \r"
     ]
    }
   ],
   "source": [
    "path_ = \"s3a://kc-hardda-projects/Skuzmenko/flat_table\"\n",
    "check = spark.read.parquet(path_)\n",
    "check.show(5)"
   ]
  },
  {
   "cell_type": "code",
   "execution_count": 40,
   "id": "82d8a7d3-7126-47ff-a099-ac3a97d45d30",
   "metadata": {},
   "outputs": [
    {
     "name": "stdout",
     "output_type": "stream",
     "text": [
      "root\n",
      " |-- execution_date: timestamp (nullable = true)\n",
      " |-- advert_id: long (nullable = true)\n",
      " |-- region: string (nullable = true)\n",
      " |-- user_id: long (nullable = true)\n",
      " |-- platform: string (nullable = true)\n",
      " |-- mark: string (nullable = true)\n",
      " |-- model: string (nullable = true)\n",
      " |-- price: double (nullable = true)\n",
      " |-- year: double (nullable = true)\n",
      " |-- fuel: string (nullable = true)\n",
      " |-- color: string (nullable = true)\n",
      " |-- transmission: string (nullable = true)\n",
      " |-- body: string (nullable = true)\n",
      " |-- country: string (nullable = true)\n",
      " |-- global_id: long (nullable = true)\n",
      " |-- user_type_name: string (nullable = true)\n",
      "\n"
     ]
    }
   ],
   "source": [
    "check.printSchema()"
   ]
  },
  {
   "cell_type": "markdown",
   "id": "ca778a47-fe87-41ae-9abe-6cefc4dd1bf9",
   "metadata": {},
   "source": [
    "Проанализируем типы данных в файле Parquet сопоставим с типами данных в ClickHouse. https://clickhouse.com/docs/en/interfaces/formats#data-format-parquet\n",
    "\n",
    "Это позволит правильно указать типы данных при создании таблицы"
   ]
  },
  {
   "cell_type": "code",
   "execution_count": 13,
   "id": "1c8467d3-8b9c-4df6-94cd-14b6b9adf5df",
   "metadata": {},
   "outputs": [],
   "source": [
    "# Создаем соединение с ClickHouse\n",
    "from clickhouse_driver import Client\n",
    "\n",
    "client_st = Client(host='clickhouse.lab.karpov.courses', port=9000, user='hardda_student_s-kuzmenko', password='9fa3838e0331c11878358cea00d5768074017e706ab20d279cf21bf884600c09', database='hardda_student_data')"
   ]
  },
  {
   "cell_type": "code",
   "execution_count": 135,
   "id": "836f3ff4-a05a-4920-9fe1-8a8e6b905a94",
   "metadata": {},
   "outputs": [],
   "source": [
    "result = client_st.execute('''drop table if exists prj_s3_ext_Skuzmenko''')"
   ]
  },
  {
   "cell_type": "code",
   "execution_count": 136,
   "id": "80857eb1-cfa7-4520-9e44-7f94c8beeec7",
   "metadata": {},
   "outputs": [],
   "source": [
    "result = client_st.execute('''\n",
    "CREATE TABLE prj_s3_ext_Skuzmenko\n",
    "(\n",
    "execution_date Nullable(DateTime64),\n",
    "advert_id Nullable(UInt32),\n",
    "region Nullable(String),\n",
    "user_id Nullable(UInt32),\n",
    "platform Nullable(String),\n",
    "mark Nullable(String),\n",
    "model Nullable(String),\n",
    "price Nullable(Float64),\n",
    "year Nullable(Float64),\n",
    "fuel Nullable(String),\n",
    "color Nullable(String),\n",
    "transmission Nullable(String),\n",
    "body Nullable(String),\n",
    "country Nullable(String),\n",
    "global_id Nullable(UInt32),\n",
    "user_type_name Nullable(String)\n",
    ") \n",
    "ENGINE = S3('https://storage.yandexcloud.net/kc-hardda-projects/Skuzmenko/flat_table/part-00000-0b2423ed-d833-4856-bcf1-299cf517cf3d-c000.snappy.parquet', \"YCAJEdS-Tw-yo4Hf834J6HzA1\", \"YCMdHzm_hstp27wftN2W0yMECpl38mV-b7fr5HhG\", 'Parquet')\n",
    "''')"
   ]
  },
  {
   "cell_type": "code",
   "execution_count": 137,
   "id": "a93fd018-d5db-4513-aaed-28e3eb3c280a",
   "metadata": {},
   "outputs": [
    {
     "name": "stdout",
     "output_type": "stream",
     "text": [
      "(datetime.datetime(2020, 12, 25, 3, 0), 236092185, 'Москва', 123456986, 'ios', None, None, None, None, None, None, None, None, None, 123456986, 'simple_user')\n",
      "(datetime.datetime(2020, 12, 31, 3, 0), 236092185, 'Москва', 123456986, 'ios', None, None, None, None, None, None, None, None, None, 123456986, 'simple_user')\n",
      "(datetime.datetime(2021, 1, 7, 3, 0), 236092185, 'Москва', 123456986, 'ios', None, None, None, None, None, None, None, None, None, 123456986, 'simple_user')\n",
      "(datetime.datetime(2021, 1, 24, 3, 0), 236092185, 'Москва', 123456986, 'ios', None, None, None, None, None, None, None, None, None, 123456986, 'simple_user')\n",
      "(datetime.datetime(2021, 1, 25, 3, 0), 256283734, 'Москва', 123456986, 'ios', None, None, 2000.0, None, None, None, None, None, None, 123456986, 'simple_user')\n",
      "(datetime.datetime(2021, 2, 7, 3, 0), 256283734, 'Москва', 123456986, 'ios', None, None, 2000.0, None, None, None, None, None, None, 123456986, 'simple_user')\n",
      "(datetime.datetime(2021, 2, 15, 3, 0), 236092185, 'Москва', 123456986, 'ios', None, None, None, None, None, None, None, None, None, 123456986, 'simple_user')\n",
      "(datetime.datetime(2021, 2, 16, 3, 0), 236092185, 'Москва', 123456986, 'ios', None, None, None, None, None, None, None, None, None, 123456986, 'simple_user')\n",
      "(datetime.datetime(2021, 2, 23, 3, 0), 236092185, 'Москва', 123456986, 'ios', None, None, None, None, None, None, None, None, None, 123456986, 'simple_user')\n",
      "(datetime.datetime(2021, 2, 23, 3, 0), 256283734, 'Москва', 123456986, 'ios', None, None, 2000.0, None, None, None, None, None, None, 123456986, 'simple_user')\n"
     ]
    }
   ],
   "source": [
    "# Отправляем запрос\n",
    "result = client_st.execute(\"SELECT * FROM prj_s3_ext_Skuzmenko LIMIT 10\")\n",
    "\n",
    "# Обрабатываем результаты запроса\n",
    "for row in result:\n",
    "    print(row)"
   ]
  },
  {
   "cell_type": "code",
   "execution_count": 120,
   "id": "fb4ed6e9-a579-4f6b-b45f-4436628b05fd",
   "metadata": {},
   "outputs": [],
   "source": [
    "result = client_st.execute('''drop table if exists prj_main_Skuzmenko''')"
   ]
  },
  {
   "cell_type": "code",
   "execution_count": 121,
   "id": "1e80be6f-02bc-4c91-bfa6-dc6b420004b7",
   "metadata": {
    "tags": []
   },
   "outputs": [],
   "source": [
    "result = client_st.execute('''\n",
    "CREATE TABLE prj_main_Skuzmenko\n",
    "(\n",
    "execution_date DateTime64,\n",
    "advert_id Nullable(UInt32),\n",
    "region Nullable(String),\n",
    "user_id Nullable(UInt32),\n",
    "platform Nullable(String),\n",
    "mark Nullable(String),\n",
    "model Nullable(String),\n",
    "price Nullable(Float64),\n",
    "year Nullable(Float64),\n",
    "fuel Nullable(String),\n",
    "color Nullable(String),\n",
    "transmission Nullable(String),\n",
    "body Nullable(String),\n",
    "country Nullable(String),\n",
    "global_id Nullable(UInt32),\n",
    "user_type_name Nullable(String)\n",
    ") \n",
    "ENGINE = MergeTree()\n",
    "ORDER BY execution_date\n",
    "''')"
   ]
  },
  {
   "cell_type": "code",
   "execution_count": 89,
   "id": "de549ad2-32b4-40fc-ab2c-e11cdad707b5",
   "metadata": {},
   "outputs": [],
   "source": [
    "result = client_st.execute('''\n",
    "insert into prj_main_Skuzmenko select * from prj_s3_ext_Skuzmenko\n",
    "''')"
   ]
  },
  {
   "cell_type": "code",
   "execution_count": 3,
   "id": "c172c112-1266-4f3a-bdca-3c7c922a6a23",
   "metadata": {},
   "outputs": [
    {
     "name": "stdout",
     "output_type": "stream",
     "text": [
      "(datetime.datetime(2020, 11, 12, 3, 0), 245470545, 'Москва', 123459843, 'ios', None, None, 2000.0, None, None, None, None, None, None, 123459843, 'profi')\n",
      "(datetime.datetime(2020, 11, 12, 3, 0), 251072730, 'Москва', 123459894, 'ios', None, None, None, None, None, None, None, None, None, 123459894, 'profi')\n",
      "(datetime.datetime(2020, 11, 12, 3, 0), 252228480, 'Москва', 123459894, 'ios', None, None, None, None, None, None, None, None, None, 123459894, 'profi')\n",
      "(datetime.datetime(2020, 11, 12, 3, 0), 161194262, 'Москва', 123460008, 'ios', None, None, 20.0, None, None, None, None, None, None, 123460008, 'profi')\n",
      "(datetime.datetime(2020, 11, 12, 3, 0), 233425914, 'Москва', 123460008, 'ios', None, None, 1084.0, None, None, None, None, None, None, 123460008, 'profi')\n",
      "(datetime.datetime(2020, 11, 12, 3, 0), 236854399, 'Москва', 123460008, 'ios', None, None, 79.0, None, None, None, None, None, None, 123460008, 'profi')\n",
      "(datetime.datetime(2020, 11, 12, 3, 0), 240685513, 'Москва', 123460008, 'ios', None, None, 135.0, None, None, None, None, None, None, 123460008, 'profi')\n",
      "(datetime.datetime(2020, 11, 12, 3, 0), 247890197, 'Москва', 123460008, 'ios', None, None, 40.0, None, None, None, None, None, None, 123460008, 'profi')\n",
      "(datetime.datetime(2020, 11, 12, 3, 0), 234017294, 'Москва', 123460008, 'ios', None, None, 20.0, None, None, None, None, None, None, 123460008, 'profi')\n",
      "(datetime.datetime(2020, 11, 12, 3, 0), 237339279, 'Москва', 123460008, 'ios', None, None, 167.0, None, None, None, None, None, None, 123460008, 'profi')\n"
     ]
    }
   ],
   "source": [
    "# Отправляем запрос\n",
    "result = client_st.execute(\"SELECT * FROM prj_main_Skuzmenko LIMIT 10\")\n",
    "\n",
    "# Обрабатываем результаты запроса\n",
    "for row in result:\n",
    "    print(row)"
   ]
  },
  {
   "cell_type": "code",
   "execution_count": 122,
   "id": "a0037cf9-1af8-4105-9c7f-efe4e010e943",
   "metadata": {},
   "outputs": [],
   "source": [
    "result = client_st.execute('''drop table if exists prj_main_Skuzmenko_agg_view_1''')"
   ]
  },
  {
   "cell_type": "code",
   "execution_count": 123,
   "id": "83497fa3-487b-4483-9442-4797f91a7451",
   "metadata": {},
   "outputs": [],
   "source": [
    "result = client_st.execute('''drop table if exists prj_main_Skuzmenko_agg_view_2''')"
   ]
  },
  {
   "cell_type": "code",
   "execution_count": 124,
   "id": "b913c9e1-49d2-4b37-b037-39c5a34ba222",
   "metadata": {},
   "outputs": [],
   "source": [
    "result = client_st.execute('''drop table if exists prj_main_Skuzmenko_agg_view_3''')"
   ]
  },
  {
   "cell_type": "code",
   "execution_count": 125,
   "id": "7f547be4-1b43-41d1-bcf7-444f04ac0fe8",
   "metadata": {},
   "outputs": [],
   "source": [
    "result = client_st.execute('''drop table if exists agg_view_1_mv''')"
   ]
  },
  {
   "cell_type": "code",
   "execution_count": 126,
   "id": "b6a0ab8d-f1ca-4a06-8e47-9ecdcb5e4d97",
   "metadata": {},
   "outputs": [],
   "source": [
    "result = client_st.execute('''drop table if exists agg_view_2_mv''')"
   ]
  },
  {
   "cell_type": "code",
   "execution_count": 127,
   "id": "6184c6dc-d457-4821-bd6c-eaafb39b6e19",
   "metadata": {},
   "outputs": [],
   "source": [
    "result = client_st.execute('''drop table if exists agg_view_3_mv''')"
   ]
  },
  {
   "cell_type": "markdown",
   "id": "258d8017-93f5-4c86-b44c-9a296f0aba05",
   "metadata": {},
   "source": [
    "Cделаем 3 материальных представления для ответа на все вопросы бизнеса"
   ]
  },
  {
   "cell_type": "code",
   "execution_count": 128,
   "id": "f12ee657-cfa4-4f97-b59f-8d4a10cbb555",
   "metadata": {},
   "outputs": [],
   "source": [
    "result = client_st.execute('''\n",
    "CREATE TABLE prj_main_Skuzmenko_agg_view_1 (\n",
    "   execution_date DateTime64,\n",
    "   platform LowCardinality(Nullable(String)),\n",
    "   user_type_name LowCardinality(Nullable(String)),\n",
    "   min_price SimpleAggregateFunction(min, Nullable(Float64)),\n",
    "   25Q AggregateFunction(quantile(0.25), Nullable(Float64)),\n",
    "   median_price AggregateFunction(median, Nullable(Float64)),\n",
    "   avg_price AggregateFunction(avg, Nullable(Float64)),\n",
    "   75Q AggregateFunction(quantile(0.75), Nullable(Float64)),\n",
    "   max_price SimpleAggregateFunction(max, Nullable(Float64))\n",
    ")\n",
    "ENGINE = AggregatingMergeTree()\n",
    "ORDER BY (execution_date, platform, user_type_name)\n",
    "''')"
   ]
  },
  {
   "cell_type": "code",
   "execution_count": 129,
   "id": "2ae4d58b-f886-49fa-8ad1-a239aeb73980",
   "metadata": {},
   "outputs": [],
   "source": [
    "result = client_st.execute('''\n",
    "CREATE MATERIALIZED VIEW agg_view_1_mv\n",
    "TO prj_main_Skuzmenko_agg_view_1 AS\n",
    "SELECT \n",
    "   execution_date,\n",
    "   platform,\n",
    "   user_type_name,\n",
    "   min(price) as min_price,\n",
    "   quantileState(0.25)(price) as 25Q,\n",
    "   medianState(price) as median_price,\n",
    "   avgState(price) as avg_price,\n",
    "   quantileState(0.75)(price) as 75Q,\n",
    "   max(price) as max_price\n",
    "FROM prj_main_Skuzmenko\n",
    "GROUP BY (execution_date, platform, user_type_name)\n",
    "''')\n"
   ]
  },
  {
   "cell_type": "code",
   "execution_count": 130,
   "id": "b3bf7ba8-75e5-4030-8f4b-2204972d9274",
   "metadata": {},
   "outputs": [],
   "source": [
    "result = client_st.execute('''\n",
    "CREATE TABLE prj_main_Skuzmenko_agg_view_2 (\n",
    "   advert_id UInt32,\n",
    "   user_id UInt32,\n",
    "   mark LowCardinality(Nullable(String)),\n",
    "   model LowCardinality(Nullable(String)),\n",
    "   min_date SimpleAggregateFunction(min, Nullable(DateTime64)),\n",
    "   max_date SimpleAggregateFunction(max, Nullable(DateTime64)),\n",
    "   min_price SimpleAggregateFunction(min, Nullable(Float64)),\n",
    "   median_price AggregateFunction(median, Nullable(Float64)),\n",
    "   max_price SimpleAggregateFunction(max, Nullable(Float64))\n",
    ")\n",
    "ENGINE = AggregatingMergeTree()\n",
    "ORDER BY (advert_id, user_id, mark, model)\n",
    "''')"
   ]
  },
  {
   "cell_type": "code",
   "execution_count": 131,
   "id": "a5df6388-95d8-4771-baad-3c653011b031",
   "metadata": {},
   "outputs": [],
   "source": [
    "result = client_st.execute('''\n",
    "CREATE MATERIALIZED VIEW agg_view_2_mv\n",
    "TO prj_main_Skuzmenko_agg_view_2 AS\n",
    "SELECT\n",
    "   advert_id,\n",
    "   user_id,\n",
    "   mark,\n",
    "   model,\n",
    "   min(execution_date) as min_date,\n",
    "   max(execution_date) as max_date,\n",
    "   min(price) as min_price,\n",
    "   medianState(price) as median_price,\n",
    "   max(price) as max_price\n",
    "FROM prj_main_Skuzmenko\n",
    "GROUP BY (advert_id, user_id, mark, model)\n",
    "''')\n"
   ]
  },
  {
   "cell_type": "code",
   "execution_count": 132,
   "id": "d9676803-131b-48fe-be0a-58887c9ca508",
   "metadata": {},
   "outputs": [],
   "source": [
    "result = client_st.execute('''\n",
    "CREATE TABLE prj_main_Skuzmenko_agg_view_3 (\n",
    "   advert_id UInt32,\n",
    "   user_id UInt32,\n",
    "   user_type_name LowCardinality(Nullable(String)),\n",
    "   mark LowCardinality(Nullable(String)),\n",
    "   model LowCardinality(Nullable(String)),\n",
    "   min_date SimpleAggregateFunction(min, Nullable(DateTime64)),\n",
    "   max_date SimpleAggregateFunction(max, Nullable(DateTime64)),\n",
    "   cohort Date\n",
    ")\n",
    "ENGINE = AggregatingMergeTree()\n",
    "ORDER BY (advert_id, user_id, user_type_name, mark, model)\n",
    "''')"
   ]
  },
  {
   "cell_type": "code",
   "execution_count": 133,
   "id": "289282f7-6db1-484a-baf6-d63a8d0591cb",
   "metadata": {},
   "outputs": [],
   "source": [
    "result = client_st.execute('''\n",
    "CREATE MATERIALIZED VIEW agg_view_3_mv\n",
    "TO prj_main_Skuzmenko_agg_view_3 AS\n",
    "SELECT\n",
    "   advert_id,\n",
    "   user_id,\n",
    "   user_type_name,\n",
    "   mark,\n",
    "   model,\n",
    "   min(execution_date) as min_date,\n",
    "   max(execution_date) as max_date,\n",
    "   toStartOfMonth(min_date) as cohort\n",
    "FROM prj_main_Skuzmenko\n",
    "GROUP BY (advert_id, user_id, user_type_name, mark, model)\n",
    "''')"
   ]
  },
  {
   "cell_type": "code",
   "execution_count": 138,
   "id": "253ec96a-5784-4995-bba0-a5424e278045",
   "metadata": {},
   "outputs": [],
   "source": [
    "result = client_st.execute('''\n",
    "insert into prj_main_Skuzmenko select * from prj_s3_ext_Skuzmenko\n",
    "''')"
   ]
  },
  {
   "cell_type": "markdown",
   "id": "63de24e6-dedf-4422-9b97-7aabc192cdf9",
   "metadata": {},
   "source": [
    "**Правда ли, что цены профессионалов больше, чем цены простых пользователей?**"
   ]
  },
  {
   "cell_type": "code",
   "execution_count": 70,
   "id": "bcf87992-4b7c-41f9-9798-d3292c2291c7",
   "metadata": {},
   "outputs": [
    {
     "name": "stdout",
     "output_type": "stream",
     "text": [
      "('avtosalon', 1576000.0, 2658000.0, 3098000.0, 3153512.2807017546, 3758000.0, 6078000.0)\n",
      "('profi', 0.0, 2000.0, 6000.0, 109897.13788965716, 18000.0, 119000000.0)\n",
      "('simple_user', 0.0, 20000.0, 540000.0, 1444751.1376050818, 1780000.0, 46000000.0)\n",
      "(None, 0.0, 2800.0, 9000.0, 1012379.9886046273, 137000.0, 42000000.0)\n"
     ]
    }
   ],
   "source": [
    "# Отправляем запрос\n",
    "result = client_st.execute('''\n",
    "SELECT \n",
    "   user_type_name,\n",
    "   min(min_price) as min_price,\n",
    "   quantileMerge(0.25)(25Q) as 25Q,\n",
    "   medianMerge(median_price) as median_price,\n",
    "   avgMerge(avg_price) as avg_price,\n",
    "   quantileMerge(0.75)(75Q) as 75Q,\n",
    "   max(max_price) as max_price\n",
    "FROM prj_main_Skuzmenko_agg_view_1\n",
    "GROUP BY (user_type_name)\n",
    "ORDER BY (user_type_name)\n",
    "''')\n",
    "\n",
    "# Обрабатываем результаты запроса\n",
    "for row in result:\n",
    "    print(row)"
   ]
  },
  {
   "cell_type": "markdown",
   "id": "9826f048-2030-4f66-b250-78d5dea99bb8",
   "metadata": {},
   "source": [
    "**Ответ:** Нет, не верно. Цены больше у простых пользователей"
   ]
  },
  {
   "cell_type": "markdown",
   "id": "5c0bf367-3124-4565-b214-6b8a47970b89",
   "metadata": {},
   "source": [
    "**Определить топ-5 марок, продающихся быстрее всего, и топ-5 марок, продающихся медленнее всего:**"
   ]
  },
  {
   "cell_type": "code",
   "execution_count": 71,
   "id": "86037c63-bd41-4b97-9f5b-f3868ad95644",
   "metadata": {},
   "outputs": [
    {
     "name": "stdout",
     "output_type": "stream",
     "text": [
      "('Aro', datetime.datetime(2021, 11, 9, 3, 0), datetime.datetime(2021, 11, 10, 3, 0), 1, 160000.0, 160000.0, 160000.0)\n",
      "('SEAT', datetime.datetime(2021, 10, 11, 3, 0), datetime.datetime(2021, 10, 20, 3, 0), 9, 400000.0, 500000.0, 500000.0)\n",
      "('DongFeng', datetime.datetime(2021, 10, 26, 3, 0), datetime.datetime(2021, 11, 9, 3, 0), 14, 500000.0, 530000.0, 540000.0)\n",
      "('Alfa Romeo', datetime.datetime(2021, 10, 23, 3, 0), datetime.datetime(2021, 11, 6, 3, 0), 14, 1260000.0, 1289000.0, 1318000.0)\n",
      "('Datsun', datetime.datetime(2021, 10, 19, 3, 0), datetime.datetime(2021, 11, 9, 3, 0), 21, 490000.0, 758000.0, 778000.0)\n",
      "('Ретро-автомобили', datetime.datetime(2020, 12, 3, 3, 0), datetime.datetime(2021, 11, 11, 3, 0), 343, 900000.0, 2000000.0, 3600000.0)\n",
      "('Scion', datetime.datetime(2020, 11, 22, 3, 0), datetime.datetime(2021, 11, 10, 3, 0), 353, 760000.0, 1660000.0, 1720000.0)\n",
      "('MG', datetime.datetime(2020, 11, 18, 3, 0), datetime.datetime(2021, 11, 11, 3, 0), 358, 399000.0, 700000.0, 820000.0)\n",
      "('Rover', datetime.datetime(2020, 11, 12, 3, 0), datetime.datetime(2021, 11, 8, 3, 0), 361, 200000.0, 340000.0, 400000.0)\n",
      "('Great Wall', datetime.datetime(2020, 11, 14, 3, 0), datetime.datetime(2021, 11, 11, 3, 0), 362, 680000.0, 3758000.0, 3758000.0)\n"
     ]
    }
   ],
   "source": [
    "# Отправляем запрос\n",
    "result = client_st.execute('''\n",
    "SELECT \n",
    "   mark,\n",
    "   min(min_date) as min_date,\n",
    "   max(max_date) as max_date,\n",
    "   dateDiff('day', min_date, max_date) as diff,\n",
    "   min(min_price) as min_price,\n",
    "   medianMerge(median_price) as median_price,\n",
    "   max(max_price) as max_price\n",
    "FROM prj_main_Skuzmenko_agg_view_2\n",
    "WHERE mark in ('Aro', 'Great Wall', 'Alfa Romeo', 'Datsun', 'SEAT', 'Rover', 'Scion', 'Ретро-автомобили', 'MG', 'DongFeng')\n",
    "GROUP BY (mark)\n",
    "ORDER BY diff\n",
    "''')\n",
    "\n",
    "# Обрабатываем результаты запроса\n",
    "for row in result:\n",
    "    print(row)"
   ]
  },
  {
   "cell_type": "markdown",
   "id": "8104b53c-601b-4ce1-8e02-0fe6735814c5",
   "metadata": {},
   "source": [
    "**Какую долю объявлений от общей базы составляют эти группы (суммарно ТОП-5 марок, продающихся быстрее всего и ТОП-5 марок, продающихся медленнее всего).**"
   ]
  },
  {
   "cell_type": "code",
   "execution_count": 68,
   "id": "4a699cc8-80a1-4be7-b60b-7dc19f960b52",
   "metadata": {},
   "outputs": [
    {
     "name": "stdout",
     "output_type": "stream",
     "text": [
      "(0.03503898086621366,)\n"
     ]
    }
   ],
   "source": [
    "# Отправляем запрос\n",
    "result = client_st.execute('''\n",
    "SELECT \n",
    "   countIf(advert_id, mark in ('Aro', 'Great Wall', 'Alfa Romeo', 'Datsun', 'SEAT', 'Rover', 'Scion', 'Ретро-автомобили', 'MG', 'DongFeng')) * 100 / count(advert_id) as percent\n",
    "FROM prj_main_Skuzmenko_agg_view_2\n",
    "''')\n",
    "\n",
    "# Обрабатываем результаты запроса\n",
    "for row in result:\n",
    "    print(row)"
   ]
  },
  {
   "cell_type": "markdown",
   "id": "27f570e9-344d-4e48-a271-6d9da4bec417",
   "metadata": {},
   "source": [
    "**Какую долю пользователей от общего количества листеров составляют эти группы (суммарно ТОП-5 марок, продающихся быстрее всего и ТОП-5 марок, продающихся медленнее всего).**"
   ]
  },
  {
   "cell_type": "code",
   "execution_count": 69,
   "id": "c46ade2c-11d8-4c9e-ad4f-a6960a06e148",
   "metadata": {},
   "outputs": [
    {
     "name": "stdout",
     "output_type": "stream",
     "text": [
      "(0.17740562021004824,)\n"
     ]
    }
   ],
   "source": [
    "# Отправляем запрос\n",
    "result = client_st.execute('''\n",
    "SELECT \n",
    "\n",
    "   uniqIf(user_id, mark in ('Aro', 'Great Wall', 'Alfa Romeo', 'Datsun', 'SEAT', 'Rover', 'Scion', 'Ретро-автомобили', 'MG', 'DongFeng')) * 100 / uniq(user_id) as percent\n",
    "\n",
    "FROM prj_main_Skuzmenko_agg_view_2\n",
    "''')\n",
    "\n",
    "# Обрабатываем результаты запроса\n",
    "for row in result:\n",
    "    print(row)"
   ]
  },
  {
   "cell_type": "markdown",
   "id": "f94c445d-294f-49ae-a7a7-429ac1ac5eb4",
   "metadata": {},
   "source": [
    "**Как изменилось время ухода объявлений в архив за полгода? На сколько дней изменилось среднее время ухода в архив в июньской когорте относительно декабрьской когорты?**"
   ]
  },
  {
   "cell_type": "code",
   "execution_count": 93,
   "id": "d98804b6-35bc-4125-a70c-ca8a09048825",
   "metadata": {},
   "outputs": [
    {
     "name": "stdout",
     "output_type": "stream",
     "text": [
      "(datetime.date(2020, 12, 1), 316.91866913123846, 325.0)\n",
      "(datetime.date(2021, 6, 1), 139.84504331087584, 142.0)\n"
     ]
    }
   ],
   "source": [
    "# Отправляем запрос\n",
    "result = client_st.execute('''\n",
    "SELECT\n",
    "   cohort,\n",
    "   avg(dateDiff('day', min_date, max_date)) as avg_diff,\n",
    "   median(dateDiff('day', min_date, max_date)) as med_diff\n",
    "FROM prj_main_Skuzmenko_agg_view_3\n",
    "WHERE cohort in ('2020-12-01', '2021-06-01')\n",
    "GROUP BY (cohort)\n",
    "''')\n",
    "\n",
    "# Обрабатываем результаты запроса\n",
    "for row in result:\n",
    "    print(row)"
   ]
  },
  {
   "cell_type": "markdown",
   "id": "f67c7150-5f83-4080-a866-cfc90e13e0d6",
   "metadata": {},
   "source": [
    "**По каким маркам время ухода в архив выросло больше всего между декабрьской и июньской когортами?**"
   ]
  },
  {
   "cell_type": "code",
   "execution_count": 116,
   "id": "8aa15ec4-6bc0-400b-b99b-10a44060fdbe",
   "metadata": {},
   "outputs": [
    {
     "name": "stdout",
     "output_type": "stream",
     "text": [
      "('Renault', 107.0)\n",
      "('Honda', -59.34285714285713)\n",
      "('Kia', -83.55844155844154)\n",
      "('Lexus', -100.92857142857143)\n",
      "('Subaru', -104.0)\n",
      "('Toyota', -116.4286380597015)\n",
      "('BMW', -122.04285714285717)\n",
      "('ВАЗ (Lada)', -124.05555555555554)\n",
      "('Mazda', -127.0)\n",
      "('Nissan', -140.90769230769234)\n"
     ]
    }
   ],
   "source": [
    "# Отправляем запрос\n",
    "result = client_st.execute('''\n",
    "SELECT\n",
    "   mark,\n",
    "   avgIf(dateDiff('day', min_date, max_date), cohort = '2021-06-01') \n",
    "   - avgIf(dateDiff('day', min_date, max_date), cohort = '2020-12-01') as avg_diff\n",
    "   \n",
    "FROM prj_main_Skuzmenko_agg_view_3\n",
    "GROUP BY mark\n",
    "ORDER BY avg_diff DESC\n",
    "LIMIT 10\n",
    "''')\n",
    "\n",
    "# Обрабатываем результаты запроса\n",
    "for row in result:\n",
    "    print(row)"
   ]
  },
  {
   "cell_type": "markdown",
   "id": "35f23f7c-7423-4fee-a2c8-a1eb22efbff1",
   "metadata": {},
   "source": [
    "По марке Renault временя ухода в архив выросло, а по остальным только уменьшилось"
   ]
  },
  {
   "cell_type": "markdown",
   "id": "04b898b7-8ac0-4e36-9cba-e8c3c5fb03c9",
   "metadata": {},
   "source": [
    "**У каких пользователей изменение времени продажи выше?**"
   ]
  },
  {
   "cell_type": "code",
   "execution_count": 118,
   "id": "509e02e7-061b-4d07-9280-21bb70ecdb7b",
   "metadata": {},
   "outputs": [
    {
     "name": "stdout",
     "output_type": "stream",
     "text": [
      "(None, -181.84160756501183)\n",
      "('profi', -177.84564008416353)\n",
      "('simple_user', -158.9021880886828)\n",
      "('avtosalon', None)\n"
     ]
    }
   ],
   "source": [
    "# Отправляем запрос\n",
    "result = client_st.execute('''\n",
    "SELECT\n",
    "   user_type_name,\n",
    "   avgIf(dateDiff('day', min_date, max_date), cohort = '2021-06-01') \n",
    "   - avgIf(dateDiff('day', min_date, max_date), cohort = '2020-12-01') as avg_diff\n",
    "   \n",
    "FROM prj_main_Skuzmenko_agg_view_3\n",
    "GROUP BY user_type_name\n",
    "ORDER BY abs(avg_diff) DESC\n",
    "LIMIT 10\n",
    "''')\n",
    "\n",
    "# Обрабатываем результаты запроса\n",
    "for row in result:\n",
    "    print(row)"
   ]
  }
 ],
 "metadata": {
  "kernelspec": {
   "display_name": "Python 3 (ipykernel)",
   "language": "python",
   "name": "python3"
  },
  "language_info": {
   "codemirror_mode": {
    "name": "ipython",
    "version": 3
   },
   "file_extension": ".py",
   "mimetype": "text/x-python",
   "name": "python",
   "nbconvert_exporter": "python",
   "pygments_lexer": "ipython3",
   "version": "3.8.10"
  }
 },
 "nbformat": 4,
 "nbformat_minor": 5
}
